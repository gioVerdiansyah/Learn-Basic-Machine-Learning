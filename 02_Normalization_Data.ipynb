{
 "cells": [
  {
   "cell_type": "markdown",
   "metadata": {},
   "source": [
    "**Normalisasi Data**\n",
    "\n",
    "Normalization adalah salah satu teknik yang dipakai dalam data preparation. Tujuan dari normalisasi adalah mengubah nilai-nilai dari sebuah fitur ke dalam skala yang sama. Normalization memungkinkan kenaikan performa dan stabilitas dari sebuah model machine learning.\n",
    "\n",
    "| Nama | Gaji       | Umur |\n",
    "| :--- | :--------- | :--- |\n",
    "| A    | 12.000.000 | 33   |\n",
    "| B    | 35.000.000 | 45   |\n",
    "| C    | 4000000    | 23   |\n",
    "| D    | 6500000    | 26   |\n",
    "| E    | 9000000    | 29   |\n",
    "\n",
    "Contoh dari normalization adalah ketika kita memiliki dataset seperti di atas yang memiliki fitur umur dengan skala 23 sampai 45 tahun dan fitur gaji dengan skala 4.000.000 sampai 35.000.000. Di sini kita melihat bahwa fitur gaji sekitar satu juta kali lebih besar dari fitur umur dan menunjukkan kedua fitur ini berada pada skala yang sangat jauh berbeda.\n",
    "\n",
    "Ketika membangun model seperti regresi linear, fitur gaji akan sangat mempengaruhi prediksi dari model karena nilainya yang jauh lebih besar daripada umur, walaupun tidak berarti fitur tersebut jauh lebih penting dari fitur umur.\n",
    "\n",
    "Salah satu contoh dari normalization adalah min-max scaling di mana nilai-nilai dipetakan ke dalam skala 0 sampai 1. SKLearn menyediakan library untuk normalization"
   ]
  },
  {
   "cell_type": "code",
   "execution_count": 1,
   "metadata": {},
   "outputs": [
    {
     "ename": "ModuleNotFoundError",
     "evalue": "No module named 'sklearn'",
     "output_type": "error",
     "traceback": [
      "\u001b[1;31m---------------------------------------------------------------------------\u001b[0m",
      "\u001b[1;31mModuleNotFoundError\u001b[0m                       Traceback (most recent call last)",
      "Cell \u001b[1;32mIn[1], line 1\u001b[0m\n\u001b[1;32m----> 1\u001b[0m \u001b[38;5;28;01mfrom\u001b[39;00m \u001b[38;5;21;01msklearn\u001b[39;00m\u001b[38;5;21;01m.\u001b[39;00m\u001b[38;5;21;01mpreprocessing\u001b[39;00m \u001b[38;5;28;01mimport\u001b[39;00m MinMaxScaler\n\u001b[0;32m      3\u001b[0m data \u001b[38;5;241m=\u001b[39m [[\u001b[38;5;241m12000000\u001b[39m, \u001b[38;5;241m33\u001b[39m],\n\u001b[0;32m      4\u001b[0m         [\u001b[38;5;241m35000000\u001b[39m, \u001b[38;5;241m45\u001b[39m],\n\u001b[0;32m      5\u001b[0m         [\u001b[38;5;241m4000000\u001b[39m, \u001b[38;5;241m23\u001b[39m],\n\u001b[0;32m      6\u001b[0m         [\u001b[38;5;241m6500000\u001b[39m, \u001b[38;5;241m26\u001b[39m],\n\u001b[0;32m      7\u001b[0m         [\u001b[38;5;241m9000000\u001b[39m, \u001b[38;5;241m29\u001b[39m]]\n\u001b[0;32m      9\u001b[0m scaler \u001b[38;5;241m=\u001b[39m MinMaxScaler()\n",
      "\u001b[1;31mModuleNotFoundError\u001b[0m: No module named 'sklearn'"
     ]
    }
   ],
   "source": [
    "from sklearn.preprocessing import MinMaxScaler\n",
    "\n",
    "data = [[12000000, 33],\n",
    "        [35000000, 45],\n",
    "        [4000000, 23],\n",
    "        [6500000, 26],\n",
    "        [9000000, 29]]\n",
    "\n",
    "scaler = MinMaxScaler()\n",
    "scaler.fit(data)"
   ]
  },
  {
   "cell_type": "markdown",
   "metadata": {},
   "source": [
    "Sampai pada fungsi fit() ini, komputer baru menghitung nilai minimum dan maksimum pada tiap kolom dan belum melakukan operasi scaler pada data. Terakhir kita panggil fungsi transform() yang akan mengaplikasikan scaler pada data, sebagai berikut."
   ]
  },
  {
   "cell_type": "code",
   "execution_count": null,
   "metadata": {},
   "outputs": [
    {
     "name": "stdout",
     "output_type": "stream",
     "text": [
      "[[0.25806452 0.45454545]\n",
      " [1.         1.        ]\n",
      " [0.         0.        ]\n",
      " [0.08064516 0.13636364]\n",
      " [0.16129032 0.27272727]]\n"
     ]
    }
   ],
   "source": [
    "print(scaler.transform(data))"
   ]
  },
  {
   "cell_type": "markdown",
   "metadata": {},
   "source": [
    "Setiap nilai dari kolom gaji dan umur telah dipetakan pada skala yang sama seperti di bawah ini.\n",
    "| Nama | Gaji       | Umur       |\n",
    "| :--- | :--------- | :--------- |\n",
    "| A    | 0.25806452 | 0.45454545 |\n",
    "| B    | 1          | 1          |\n",
    "| C    | 0          | 0          |\n",
    "| D    | 0.08064516 | 0.13636364 |\n",
    "| E    | 0.16129032 | 0.27272727 |\n",
    "\n",
    "Untuk informasi lebih detail tentang Min Max Scaler, silakan kunjungi [tautan](https://scikit-learn.org/0.16/modules/generated/sklearn.preprocessing.MinMaxScaler.html) berikut."
   ]
  },
  {
   "cell_type": "markdown",
   "metadata": {},
   "source": [
    "**Standardization**\n",
    "Standardization adalah proses konversi nilai-nilai dari suatu fitur sehingga nilai-nilai tersebut memiliki skala yang sama, $Z$ score adalah metode paling populer untuk standarsisasi di mana setiap nilai pada sebuah atribut numerik akan dikurangi dengan rata-rata dan di bagi dengan standart deviasi dari seluruh nilai pada sebuah proses kolom attribut.\n",
    "\n",
    "$z = \\frac{value - mean}{standard deviation}$\n",
    "\n",
    "Fungsi standardisasi itu serupa dengan normallization. Keduanya berfungsi menyamakan skala nilai dari tiap atribut pada data. SKLearn menyediakan library untuk mengaplikasikan standart scaler pada data\n",
    "\n",
    "| Nama | Gaji       | Umur |\n",
    "| :--- | :--------- | :--- |\n",
    "| A    | 12.000.000 | 33   |\n",
    "| B    | 35.000.000 | 45   |\n",
    "| C    | 4000000    | 23   |\n",
    "| D    | 6500000    | 26   |\n",
    "| E    | 9000000    | 29   |\n",
    "\n",
    "Pada cell pertama akan meimport library **preprocessing** dari **scikit learn** lalu membuat data dummy sesuai dengan tabel di atas"
   ]
  },
  {
   "cell_type": "code",
   "execution_count": null,
   "metadata": {},
   "outputs": [],
   "source": [
    "from sklearn import preprocessing\n",
    "data_n = data"
   ]
  },
  {
   "cell_type": "markdown",
   "metadata": {},
   "source": [
    "Selanjutnya kita buat object scaler dan panggil fungsi fit dari scaler pada data. Fungsi fit memiliki fungsi untuk menghitung rata-rata dan deviasi standar dari setiap kolom atribut untuk kemudian dipakai pada fungsi transform"
   ]
  },
  {
   "cell_type": "code",
   "execution_count": null,
   "metadata": {},
   "outputs": [],
   "source": [
    "scaler_n = preprocessing.StandardScaler().fit(data_n)"
   ]
  },
  {
   "cell_type": "markdown",
   "metadata": {},
   "source": [
    "Terakhir panggil fungsi transform untuk mengaplikasikan standard scaler pada data.\n",
    "Untuk melihat hasil kita cukup panggil objek scaler yang telah kita buat"
   ]
  },
  {
   "cell_type": "code",
   "execution_count": null,
   "metadata": {},
   "outputs": [
    {
     "data": {
      "text/plain": [
       "array([[0.25806452, 0.45454545],\n",
       "       [1.        , 1.        ],\n",
       "       [0.        , 0.        ],\n",
       "       [0.08064516, 0.13636364],\n",
       "       [0.16129032, 0.27272727]])"
      ]
     },
     "execution_count": 10,
     "metadata": {},
     "output_type": "execute_result"
    }
   ],
   "source": [
    "data_n = scaler.transform(data_n)\n",
    "data_n"
   ]
  }
 ],
 "metadata": {
  "kernelspec": {
   "display_name": "base",
   "language": "python",
   "name": "python3"
  },
  "language_info": {
   "codemirror_mode": {
    "name": "ipython",
    "version": 3
   },
   "file_extension": ".py",
   "mimetype": "text/x-python",
   "name": "python",
   "nbconvert_exporter": "python",
   "pygments_lexer": "ipython3",
   "version": "3.10.6"
  }
 },
 "nbformat": 4,
 "nbformat_minor": 2
}
