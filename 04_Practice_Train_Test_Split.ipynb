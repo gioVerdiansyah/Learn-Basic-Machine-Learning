{
 "cells": [
  {
   "cell_type": "markdown",
   "metadata": {},
   "source": [
    "**Latihan SKLearn Train Test Split**\n",
    "\n",
    "**Tujuan** <br>\n",
    "Akan belajar membagi dataset menggunakan fungsi Train Test Split dari *library* SKLearn\n",
    "\n",
    "**Tahap Latihan** <br>\n",
    "Untuk membagi dataset terdiri dari tahap-tahapan sebagai berikut:\n",
    "1. Persiapkan dataset ke dalam Notebook.\n",
    "2. Import library SKLearn\n",
    "3. Panggil Fungsi *train_test_split()*"
   ]
  },
  {
   "cell_type": "code",
   "execution_count": 1,
   "metadata": {},
   "outputs": [],
   "source": [
    "import sklearn\n",
    "from sklearn import datasets"
   ]
  },
  {
   "cell_type": "markdown",
   "metadata": {},
   "source": [
    "Library sklearn menyediakan **dataset iris** yakni sebuah dataset yang umum digunakan untuk masalah klasifikasi. Dataset ini memiliki jumlah 150 sampel. Untuk mendapatkan dataset, kita bisa menulis kode berikut pada cell baru"
   ]
  },
  {
   "cell_type": "code",
   "execution_count": 2,
   "metadata": {},
   "outputs": [],
   "source": [
    "# Load iris dataset\n",
    "iris = datasets.load_iris()"
   ]
  },
  {
   "cell_type": "markdown",
   "metadata": {},
   "source": [
    "Dataset iris dari library sklearn belum dapat langsung dipakai oleh sebuah model ML. Agar bisa kita harus memisahkan antara atribut dan label pada dataset"
   ]
  },
  {
   "cell_type": "code",
   "execution_count": 3,
   "metadata": {},
   "outputs": [],
   "source": [
    "# Memisahkan atribut dan label\n",
    "x = iris.data\n",
    "y = iris.target"
   ]
  },
  {
   "cell_type": "markdown",
   "metadata": {},
   "source": [
    "Untuk membuat train set dan test set kita tinggal memanggil fungsi train_test_split.\n",
    "train_test_split() memiliki parameter x yaitu atribut dari dataset, y taitu target dari dataset, dan test_size itu adalah presentase test set dari dataset utuh. train_test_split mengembalikan 4 nilai yaitu, atribut dari train test, atribut dari test set, target dari train set, dan target dari test set."
   ]
  },
  {
   "cell_type": "code",
   "execution_count": 8,
   "metadata": {},
   "outputs": [
    {
     "data": {
      "text/plain": [
       "30"
      ]
     },
     "execution_count": 8,
     "metadata": {},
     "output_type": "execute_result"
    }
   ],
   "source": [
    "from sklearn.model_selection import train_test_split\n",
    "\n",
    "x_train, x_test, y_train, y_test = train_test_split(x, y, test_size=0.2, train_size=1)\n",
    "\n",
    "len(x_test)"
   ]
  },
  {
   "cell_type": "markdown",
   "metadata": {},
   "source": [
    "Hasil benar **30** karena 0.2 atau 20% dari 150 sampel"
   ]
  }
 ],
 "metadata": {
  "kernelspec": {
   "display_name": "base",
   "language": "python",
   "name": "python3"
  },
  "language_info": {
   "codemirror_mode": {
    "name": "ipython",
    "version": 3
   },
   "file_extension": ".py",
   "mimetype": "text/x-python",
   "name": "python",
   "nbconvert_exporter": "python",
   "pygments_lexer": "ipython3",
   "version": "3.11.5"
  }
 },
 "nbformat": 4,
 "nbformat_minor": 2
}
