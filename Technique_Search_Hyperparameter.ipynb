{
 "cells": [
  {
   "cell_type": "markdown",
   "metadata": {},
   "source": [
    "# **Eksplorasi HyperParameter Search**\n",
    "<br>\n",
    "\n",
    "**Setup**"
   ]
  },
  {
   "cell_type": "code",
   "execution_count": 1,
   "metadata": {},
   "outputs": [],
   "source": [
    "import pandas as pd\n",
    "from sklearn.tree import DecisionTreeRegressor\n",
    "from sklearn.model_selection import train_test_split\n",
    "\n",
    "df = pd.read_csv('./Kaggle/resources/datasets/melb_data.csv')\n",
    "df = df.dropna(axis=0)\n",
    "\n",
    "features = ['Rooms', 'Bathroom', 'Landsize', 'BuildingArea', \n",
    "                        'YearBuilt', 'Lattitude', 'Longtitude']\n",
    "y = df.Price\n",
    "X = df[features]\n",
    "\n",
    "X_train, X_test, y_train, y_test = train_test_split(X, y, random_state=42)\n",
    "model = DecisionTreeRegressor()"
   ]
  },
  {
   "cell_type": "markdown",
   "metadata": {},
   "source": [
    "# **Grid Search**"
   ]
  },
  {
   "cell_type": "code",
   "execution_count": 2,
   "metadata": {},
   "outputs": [
    {
     "name": "stdout",
     "output_type": "stream",
     "text": [
      "Best random state: 87\n",
      "Best random score: -259037.22653911595\n"
     ]
    }
   ],
   "source": [
    "from sklearn.model_selection import GridSearchCV\n",
    "\n",
    "# Param\n",
    "param_grid = {'random_state': [0,1,4,12,24,38,42,48,61,78,80,87,97,100,123]}\n",
    "\n",
    "# Search\n",
    "grid_search = GridSearchCV(model, param_grid, cv=5, scoring='neg_mean_absolute_error')\n",
    "grid_search.fit(X_train, y_train)\n",
    "\n",
    "# Best Score\n",
    "best_random_state = grid_search.best_params_['random_state']\n",
    "print(f\"Best random state: {best_random_state}\")\n",
    "print(f\"Best random score: {grid_search.best_score_}\")"
   ]
  },
  {
   "cell_type": "markdown",
   "metadata": {},
   "source": [
    "# **Manual Search with Cross-Validation**"
   ]
  },
  {
   "cell_type": "code",
   "execution_count": 3,
   "metadata": {},
   "outputs": [
    {
     "name": "stdout",
     "output_type": "stream",
     "text": [
      "Best random state: 42\n",
      "Best random score: {0: -261414.25274673887, 1: -262673.1178091832, 4: -260552.7668775536, 12: -261015.7791958054, 24: -264376.28950102435, 38: -261534.53661469728, 42: -265463.43696586683, 80: -262697.3142187807, 81: -263931.24647661374, 82: -262810.70697362174, 83: -259651.7806451613, 84: -263327.7442719076, 85: -263602.2020074771, 86: -260071.24380453024, 87: -259037.22653911595, 97: -260958.2043267706}\n"
     ]
    }
   ],
   "source": [
    "from sklearn.model_selection import cross_val_score\n",
    "import numpy as np\n",
    "\n",
    "# Param\n",
    "random_state = [0,1,4,12,24,38,42,80,81,82,83,84,85,85,86,87,97]\n",
    "result = {}\n",
    "\n",
    "for i in random_state:\n",
    "    model.set_params(random_state=i)\n",
    "    scores = cross_val_score(model,X_train, y_train, cv=5, scoring='neg_mean_absolute_error')\n",
    "    result[i] = np.mean(scores)\n",
    "    \n",
    "# Best Score\n",
    "best_random_state = min(result, key=result.get)\n",
    "print(f\"Best random state: {best_random_state}\")\n",
    "print(f\"Best random score: {result}\")"
   ]
  },
  {
   "cell_type": "markdown",
   "metadata": {},
   "source": [
    "# **Randomized Search**<br>\n",
    "- model: Estimator yang dioptimalkan.\n",
    "- random_param: Parameter distribusi yang dioptimalkan.\n",
    "- cv: Cross-validation fold.\n",
    "- n_iter: Jumlah iterasi pencarian.\n",
    "- n_jobs: Jumlah pekerjaan paralel.\n",
    "- random_state: Seed untuk angka acak.\n",
    "- scoring: Metrik evaluasi."
   ]
  },
  {
   "cell_type": "code",
   "execution_count": 4,
   "metadata": {},
   "outputs": [
    {
     "name": "stdout",
     "output_type": "stream",
     "text": [
      "Best random state: 652\n",
      "Best score: -258631.71457666354\n"
     ]
    }
   ],
   "source": [
    "from sklearn.model_selection import RandomizedSearchCV\n",
    "#param\n",
    "random_param = {'random_state': np.random.randint(0, 2500, size=500)}\n",
    "\n",
    "# Search Param\n",
    "random_search = RandomizedSearchCV(model, random_param, cv=5, n_iter=10, n_jobs=-1, random_state=42, scoring='neg_mean_absolute_error')\n",
    "random_search.fit(X_train, y_train)\n",
    "\n",
    "best_random_state = random_search.best_params_['random_state']\n",
    "print(f\"Best random state: {best_random_state}\")\n",
    "print(f\"Best score: {random_search.best_score_}\")"
   ]
  }
 ],
 "metadata": {
  "kernelspec": {
   "display_name": "base",
   "language": "python",
   "name": "python3"
  },
  "language_info": {
   "codemirror_mode": {
    "name": "ipython",
    "version": 3
   },
   "file_extension": ".py",
   "mimetype": "text/x-python",
   "name": "python",
   "nbconvert_exporter": "python",
   "pygments_lexer": "ipython3",
   "version": "3.10.6"
  }
 },
 "nbformat": 4,
 "nbformat_minor": 2
}
