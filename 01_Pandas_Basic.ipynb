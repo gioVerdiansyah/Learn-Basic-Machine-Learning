{
 "cells": [
  {
   "cell_type": "markdown",
   "id": "a2bf4e57",
   "metadata": {},
   "source": [
    "Hallo ini adalah pertamakalinya saya menggunakan Pandas"
   ]
  },
  {
   "cell_type": "code",
   "execution_count": 2,
   "id": "04776bcc",
   "metadata": {},
   "outputs": [
    {
     "data": {
      "text/html": [
       "<div>\n",
       "<style scoped>\n",
       "    .dataframe tbody tr th:only-of-type {\n",
       "        vertical-align: middle;\n",
       "    }\n",
       "\n",
       "    .dataframe tbody tr th {\n",
       "        vertical-align: top;\n",
       "    }\n",
       "\n",
       "    .dataframe thead th {\n",
       "        text-align: right;\n",
       "    }\n",
       "</style>\n",
       "<table border=\"1\" class=\"dataframe\">\n",
       "  <thead>\n",
       "    <tr style=\"text-align: right;\">\n",
       "      <th></th>\n",
       "      <th>Kode Prov;Provinsi;Paved;Paved_%;UnPaved;UnPaved_%;Jumlah</th>\n",
       "    </tr>\n",
       "  </thead>\n",
       "  <tbody>\n",
       "    <tr>\n",
       "      <th>0</th>\n",
       "      <td>11;Aceh;10905.91136;56.16394424;8512.08271;43....</td>\n",
       "    </tr>\n",
       "    <tr>\n",
       "      <th>1</th>\n",
       "      <td>12;Sumatera Utara;19185.8563;62.49689133;11513...</td>\n",
       "    </tr>\n",
       "    <tr>\n",
       "      <th>2</th>\n",
       "      <td>13;Sumatera Barat;12478.17028;65.57047277;6551...</td>\n",
       "    </tr>\n",
       "    <tr>\n",
       "      <th>3</th>\n",
       "      <td>14;Riau;9030.032757;47.41931305;10012.91025;52...</td>\n",
       "    </tr>\n",
       "    <tr>\n",
       "      <th>4</th>\n",
       "      <td>15;Jambi;4854.027201;51.3339557;4601.755302;48...</td>\n",
       "    </tr>\n",
       "  </tbody>\n",
       "</table>\n",
       "</div>"
      ],
      "text/plain": [
       "  Kode Prov;Provinsi;Paved;Paved_%;UnPaved;UnPaved_%;Jumlah\n",
       "0  11;Aceh;10905.91136;56.16394424;8512.08271;43....       \n",
       "1  12;Sumatera Utara;19185.8563;62.49689133;11513...       \n",
       "2  13;Sumatera Barat;12478.17028;65.57047277;6551...       \n",
       "3  14;Riau;9030.032757;47.41931305;10012.91025;52...       \n",
       "4  15;Jambi;4854.027201;51.3339557;4601.755302;48...       "
      ]
     },
     "execution_count": 2,
     "metadata": {},
     "output_type": "execute_result"
    }
   ],
   "source": [
    "import pandas as pd\n",
    "\n",
    "df = pd.read_csv(\"./resources/sample_data/Jenis Permukaan Jalan Kabupaten&Kota Tahun 2023.csv\")\n",
    "df.head()"
   ]
  }
 ],
 "metadata": {
  "kernelspec": {
   "display_name": "Python 3 (ipykernel)",
   "language": "python",
   "name": "python3"
  },
  "language_info": {
   "codemirror_mode": {
    "name": "ipython",
    "version": 3
   },
   "file_extension": ".py",
   "mimetype": "text/x-python",
   "name": "python",
   "nbconvert_exporter": "python",
   "pygments_lexer": "ipython3",
   "version": "3.10.6"
  }
 },
 "nbformat": 4,
 "nbformat_minor": 5
}
