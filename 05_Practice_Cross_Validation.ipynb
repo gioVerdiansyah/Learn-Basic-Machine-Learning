{
 "cells": [
  {
   "cell_type": "markdown",
   "metadata": {},
   "source": [
    "**Latihan SKLearn Cross Validation Split**\n",
    "\n",
    "**Tujuan** <br>\n",
    "Pada codelab kali ini kita akan menggunakan *cross_validation_score* pada *classifier decision_tree*. Dataset yang digunakan adalah dataset iris.\n",
    "\n",
    "**Tahapan Latihan** <br>\n",
    "Tahapan yang dilakukan pada coedlab ini sebagi berikut:\n",
    "1. impor library yang dibutuhkan\n",
    "2. Pisahkan antara atribut dan label pada dataset\n",
    "3. Hitung hasil *cross validation* dari model dengan fungsi *cross_val_score()*"
   ]
  },
  {
   "cell_type": "markdown",
   "metadata": {},
   "source": [
    "**Codelab**\n",
    "\n",
    "Para pengembang ML biasanya meng-import  semua library yang dibutuhkan di cell pertama.\n",
    "datasets yang digunakan adalah iris"
   ]
  },
  {
   "cell_type": "code",
   "execution_count": 1,
   "metadata": {},
   "outputs": [],
   "source": [
    "import sklearn\n",
    "from sklearn import datasets\n",
    "\n",
    "# Load iris\n",
    "iris = datasets.load_iris()"
   ]
  },
  {
   "cell_type": "markdown",
   "metadata": {},
   "source": [
    "Kemudian kita bagi antara atribut dan label pada dataset."
   ]
  },
  {
   "cell_type": "code",
   "execution_count": 2,
   "metadata": {},
   "outputs": [],
   "source": [
    "x = iris.data\n",
    "y = iris.target"
   ]
  },
  {
   "cell_type": "markdown",
   "metadata": {},
   "source": [
    "Kita akan membuat model machine learning pertama kita yaitu decision tree, menggunakan library scikit learn. Model machine learning juga disebut calssifier."
   ]
  },
  {
   "cell_type": "code",
   "execution_count": 3,
   "metadata": {},
   "outputs": [],
   "source": [
    "from sklearn import tree\n",
    "\n",
    "# membuat model dengan decision tree classifier\n",
    "clf = tree.DecisionTreeClassifier()"
   ]
  },
  {
   "cell_type": "markdown",
   "metadata": {},
   "source": [
    "Setelah dataset dan model siap, kita bisa menggunakan cross validation untuk mengevaluasi performa dari model machine learning. Fungsi *cross_val_score()* seperti di bawah menerima 4 parameter yaitu:\n",
    "1. 'clf' yang merupakan model dari dataset\n",
    "2. 'x' merupakan atribut dari dataset\n",
    "3. 'y' merupakan label dari dataset\n",
    "4. 'cv' merupakan fold yang akan di pakai pada *cross validation*"
   ]
  },
  {
   "cell_type": "code",
   "execution_count": 4,
   "metadata": {},
   "outputs": [],
   "source": [
    "from sklearn.model_selection import cross_val_score\n",
    "\n",
    "# Mengevaluasi performa model dengan cross_cal_score\n",
    "scores = cross_val_score(clf, x, y, cv=5)"
   ]
  },
  {
   "cell_type": "markdown",
   "metadata": {},
   "source": [
    "*cross_val_scrore* mengembalikan nilai berupa larik atau array yang terdiri dari akurasi pengujian setiap *fold* dari dataset. Untuk mencetak dan mengetahui hasilnya, tambahkan kode scores di bawah"
   ]
  },
  {
   "cell_type": "code",
   "execution_count": 5,
   "metadata": {},
   "outputs": [
    {
     "data": {
      "text/plain": [
       "array([0.96666667, 0.96666667, 0.9       , 0.96666667, 1.        ])"
      ]
     },
     "execution_count": 5,
     "metadata": {},
     "output_type": "execute_result"
    }
   ],
   "source": [
    "scores"
   ]
  },
  {
   "cell_type": "markdown",
   "metadata": {},
   "source": [
    "Elemen pertama dari larik menunjukkan nilai 0.96666 yang berarti ketika fold pertama dijadikan validation set dan fold lainnya dijadikan train set, hasil dari pengujian tersebut adalah akurasi sebesar 0.96666. \n",
    "\n",
    "Melihat akurasi dari seluruh pengujian fold yang memiliki nilai tinggi dan konsisten pada tiap fold, kita mendapatkan gambaran bahwa model kita memiliki performa yang sangat baik.\n",
    "\n",
    "Secara umum jika hasil dari pengujian tiap fold pada cross validation memiliki nilai yang bervariasi dari 0.85 sampai 0.99, maka model tersebut dapat dikatakan baik."
   ]
  }
 ],
 "metadata": {
  "kernelspec": {
   "display_name": "base",
   "language": "python",
   "name": "python3"
  },
  "language_info": {
   "codemirror_mode": {
    "name": "ipython",
    "version": 3
   },
   "file_extension": ".py",
   "mimetype": "text/x-python",
   "name": "python",
   "nbconvert_exporter": "python",
   "pygments_lexer": "ipython3",
   "version": "3.10.6"
  }
 },
 "nbformat": 4,
 "nbformat_minor": 2
}
